{
 "cells": [
  {
   "cell_type": "markdown",
   "metadata": {},
   "source": [
    "# NLP Practice\n",
    "### Importing Libs & Data"
   ]
  },
  {
   "cell_type": "code",
   "execution_count": 2,
   "metadata": {
    "collapsed": true
   },
   "outputs": [],
   "source": [
    "import pandas as pd\n",
    "import numpy as np\n",
    "import matplotlib.pyplot as plt\n",
    "import seaborn as sns\n",
    "%matplotlib inline"
   ]
  },
  {
   "cell_type": "code",
   "execution_count": 3,
   "metadata": {
    "collapsed": true
   },
   "outputs": [],
   "source": [
    "import scipy\n",
    "import sklearn\n",
    "import spacy\n",
    "import re\n",
    "from nltk.corpus import gutenberg, stopwords\n",
    "from collections import Counter\n",
    "from sklearn.model_selection import train_test_split"
   ]
  },
  {
   "cell_type": "code",
   "execution_count": 4,
   "metadata": {
    "collapsed": true
   },
   "outputs": [],
   "source": [
    "article = pd.read_csv('articles1.csv')\n",
    "article2 = pd.read_csv('articles2.csv')\n",
    "article3 = pd.read_csv('articles3.csv')"
   ]
  },
  {
   "cell_type": "code",
   "execution_count": 5,
   "metadata": {
    "collapsed": true
   },
   "outputs": [],
   "source": [
    "article.drop(['url'],axis=1,inplace=True)\n",
    "article2.drop(['url'],axis=1,inplace=True)\n",
    "article3.drop(['url'],axis=1,inplace=True)"
   ]
  },
  {
   "cell_type": "code",
   "execution_count": 6,
   "metadata": {
    "collapsed": true
   },
   "outputs": [],
   "source": [
    "article.dropna(inplace=True)\n",
    "article2.dropna(inplace=True)\n",
    "article3.dropna(inplace=True)"
   ]
  },
  {
   "cell_type": "markdown",
   "metadata": {},
   "source": [
    "## Functions"
   ]
  },
  {
   "cell_type": "code",
   "execution_count": 7,
   "metadata": {
    "collapsed": true
   },
   "outputs": [],
   "source": [
    "nlp = spacy.load('en')"
   ]
  },
  {
   "cell_type": "code",
   "execution_count": 8,
   "metadata": {
    "collapsed": true
   },
   "outputs": [],
   "source": [
    "def body_of_work(content):\n",
    "    body = []\n",
    "    for work in content:\n",
    "        body.append(work)\n",
    "    return(body)"
   ]
  },
  {
   "cell_type": "code",
   "execution_count": 9,
   "metadata": {
    "collapsed": true
   },
   "outputs": [],
   "source": [
    "# Utility function for standard text cleaning.\n",
    "def text_cleaner(text):\n",
    "    # Visual inspection identifies a form of punctuation spaCy does not\n",
    "    # recognize: the double dash '--'.  Better get rid of it now!\n",
    "    text = re.sub(r'--',' ',text)\n",
    "    text = re.sub(\"[\\[].*?[\\]]\", \"\", text)\n",
    "    text = ' '.join(text.split())\n",
    "    return text"
   ]
  },
  {
   "cell_type": "code",
   "execution_count": 10,
   "metadata": {
    "collapsed": true
   },
   "outputs": [],
   "source": [
    "from collections import Counter\n",
    "\n",
    "# Utility function to calculate how frequently words appear in the text.\n",
    "def word_frequencies(text, include_stop=True):\n",
    "    \n",
    "    # Build a list of words.\n",
    "    # Strip out punctuation and, optionally, stop words.\n",
    "    words = []\n",
    "    for token in text:\n",
    "        if not token.is_punct and (not token.is_stop or include_stop):\n",
    "            words.append(token.text)\n",
    "            \n",
    "    # Build and return a Counter object containing word counts.\n",
    "    return Counter(words)"
   ]
  },
  {
   "cell_type": "code",
   "execution_count": 11,
   "metadata": {
    "collapsed": true
   },
   "outputs": [],
   "source": [
    "# Utility function to create a list of the 2000 most common words.\n",
    "def bag_of_words(text):\n",
    "    \n",
    "    # Filter out punctuation and stop words.\n",
    "    allwords = [token.lemma_\n",
    "                for token in text\n",
    "                if not token.is_punct\n",
    "                and not token.is_stop]\n",
    "    \n",
    "    # Return the most common words.\n",
    "    return [item[0] for item in Counter(allwords).most_common(250)]"
   ]
  },
  {
   "cell_type": "code",
   "execution_count": 12,
   "metadata": {
    "collapsed": true
   },
   "outputs": [],
   "source": [
    "def bow_features(sentences, common_words):\n",
    "    \n",
    "    # Scaffold the data frame and initialize counts to zero.\n",
    "    df = pd.DataFrame(columns=common_words)\n",
    "    df['text_sentence'] = sentences[0]\n",
    "    df['text_source'] = sentences[1]\n",
    "    df.loc[:, common_words] = 0\n",
    "    \n",
    "    # Process each row, counting the occurrence of words in each sentence.\n",
    "    for i, sentence in enumerate(df['text_sentence']):\n",
    "        \n",
    "        # Convert the sentence to lemmas, then filter out punctuation,\n",
    "        # stop words, and uncommon words.\n",
    "        words = [token.lemma_\n",
    "                 for token in sentence\n",
    "                 if (\n",
    "                     not token.is_punct\n",
    "                     and not token.is_stop\n",
    "                     and token.lemma_ in common_words\n",
    "                 )]\n",
    "        \n",
    "        # Populate the row with word counts.\n",
    "        for word in words:\n",
    "            df.loc[i, word] += 1\n",
    "        \n",
    "        # This counter is just to make sure the kernel didn't hang.\n",
    "        if i % 500 == 0:\n",
    "            print(\"Processing row {}\".format(i))\n",
    "            \n",
    "    return df"
   ]
  },
  {
   "cell_type": "code",
   "execution_count": 13,
   "metadata": {
    "collapsed": true
   },
   "outputs": [],
   "source": [
    "def word_filter(set1, set2):\n",
    "    keeper=[]\n",
    "    for word in set1:\n",
    "        if not word in set2:\n",
    "            keeper.append(word)\n",
    "        else:\n",
    "            pass\n",
    "        \n",
    "    for word2 in set2:\n",
    "        if not word2 in set1:\n",
    "            keeper.append(word2)\n",
    "        else:\n",
    "            pass\n",
    "        \n",
    "    return(keeper)"
   ]
  },
  {
   "cell_type": "markdown",
   "metadata": {},
   "source": [
    "Getting top 10 authors from the 3 documents"
   ]
  },
  {
   "cell_type": "markdown",
   "metadata": {},
   "source": [
    "The first dataset has the 10 authors with the most published articles"
   ]
  },
  {
   "cell_type": "code",
   "execution_count": 14,
   "metadata": {},
   "outputs": [
    {
     "data": {
      "text/plain": [
       "Pam Key               1282\n",
       "Charlie Spiering       928\n",
       "Jerome Hudson          806\n",
       "John Hayward           747\n",
       "Daniel Nussbaum        735\n",
       "AWR Hawkins            720\n",
       "Ian Hanchett           647\n",
       "Joel B. Pollak         624\n",
       "Alex Swoyer            604\n",
       "Warner Todd Huston     545\n",
       "Name: author, dtype: int64"
      ]
     },
     "execution_count": 14,
     "metadata": {},
     "output_type": "execute_result"
    }
   ],
   "source": [
    "article['author'].value_counts()[1:11]"
   ]
  },
  {
   "cell_type": "code",
   "execution_count": 15,
   "metadata": {},
   "outputs": [
    {
     "data": {
      "text/plain": [
       "Index(['Pam Key', 'Charlie Spiering', 'Jerome Hudson', 'John Hayward',\n",
       "       'Daniel Nussbaum', 'AWR Hawkins', 'Ian Hanchett', 'Joel B. Pollak',\n",
       "       'Alex Swoyer', 'Warner Todd Huston'],\n",
       "      dtype='object')"
      ]
     },
     "execution_count": 15,
     "metadata": {},
     "output_type": "execute_result"
    }
   ],
   "source": [
    "article['author'].value_counts()[1:11].index"
   ]
  },
  {
   "cell_type": "code",
   "execution_count": 16,
   "metadata": {
    "collapsed": true
   },
   "outputs": [],
   "source": [
    "Pam_Key = article[article['author'] == 'Pam Key'][0:545]"
   ]
  },
  {
   "cell_type": "code",
   "execution_count": 17,
   "metadata": {
    "collapsed": true
   },
   "outputs": [],
   "source": [
    "Charlie_Spiering = article[article['author'] == 'Charlie Spiering'][0:545]"
   ]
  },
  {
   "cell_type": "code",
   "execution_count": 18,
   "metadata": {
    "collapsed": true
   },
   "outputs": [],
   "source": [
    "Jerome_Hudson = article[article['author'] == 'Jerome Hudson'][0:545]"
   ]
  },
  {
   "cell_type": "code",
   "execution_count": 19,
   "metadata": {
    "collapsed": true
   },
   "outputs": [],
   "source": [
    "John_Hayward = article[article['author'] == 'John Hayward'][0:545]"
   ]
  },
  {
   "cell_type": "code",
   "execution_count": 20,
   "metadata": {
    "collapsed": true
   },
   "outputs": [],
   "source": [
    "Daniel_Nussbaum = article[article['author'] == 'Daniel Nussbaum'][0:545]"
   ]
  },
  {
   "cell_type": "code",
   "execution_count": 21,
   "metadata": {
    "collapsed": true
   },
   "outputs": [],
   "source": [
    "AWR_Hawkins = article[article['author'] == 'AWR Hawkins'][0:545]"
   ]
  },
  {
   "cell_type": "code",
   "execution_count": 22,
   "metadata": {
    "collapsed": true
   },
   "outputs": [],
   "source": [
    "Ian_Hanchett = article[article['author'] == 'Ian Hanchett'][0:545]"
   ]
  },
  {
   "cell_type": "code",
   "execution_count": 23,
   "metadata": {
    "collapsed": true
   },
   "outputs": [],
   "source": [
    "Joel_BPollak = article[article['author'] == 'Joel B. Pollak'][0:545]"
   ]
  },
  {
   "cell_type": "code",
   "execution_count": 24,
   "metadata": {
    "collapsed": true
   },
   "outputs": [],
   "source": [
    "Alex_Swoyer = article[article['author'] == 'Alex Swoyer'][0:545]"
   ]
  },
  {
   "cell_type": "code",
   "execution_count": 25,
   "metadata": {
    "collapsed": true
   },
   "outputs": [],
   "source": [
    "Warner_ToddHuston = article[article['author'] == 'Warner Todd Huston']"
   ]
  },
  {
   "cell_type": "code",
   "execution_count": 26,
   "metadata": {
    "collapsed": true
   },
   "outputs": [],
   "source": [
    "top_ten = pd.concat([Pam_Key,Charlie_Spiering,Jerome_Hudson,John_Hayward,Daniel_Nussbaum\n",
    ",AWR_Hawkins,Ian_Hanchett,Joel_BPollak,Alex_Swoyer,Warner_ToddHuston])"
   ]
  },
  {
   "cell_type": "code",
   "execution_count": 27,
   "metadata": {},
   "outputs": [
    {
     "data": {
      "text/html": [
       "<div>\n",
       "<style>\n",
       "    .dataframe thead tr:only-child th {\n",
       "        text-align: right;\n",
       "    }\n",
       "\n",
       "    .dataframe thead th {\n",
       "        text-align: left;\n",
       "    }\n",
       "\n",
       "    .dataframe tbody tr th {\n",
       "        vertical-align: top;\n",
       "    }\n",
       "</style>\n",
       "<table border=\"1\" class=\"dataframe\">\n",
       "  <thead>\n",
       "    <tr style=\"text-align: right;\">\n",
       "      <th></th>\n",
       "      <th>Unnamed: 0</th>\n",
       "      <th>id</th>\n",
       "      <th>title</th>\n",
       "      <th>publication</th>\n",
       "      <th>author</th>\n",
       "      <th>date</th>\n",
       "      <th>year</th>\n",
       "      <th>month</th>\n",
       "      <th>content</th>\n",
       "    </tr>\n",
       "  </thead>\n",
       "  <tbody>\n",
       "    <tr>\n",
       "      <th>7845</th>\n",
       "      <td>7845</td>\n",
       "      <td>26581</td>\n",
       "      <td>Rand Paul on Obamacare Lite: There Is a ’Separ...</td>\n",
       "      <td>Breitbart</td>\n",
       "      <td>Pam Key</td>\n",
       "      <td>2017-03-12</td>\n",
       "      <td>2017.0</td>\n",
       "      <td>3.0</td>\n",
       "      <td>Sunday on CBS’s “Face The Nation,” while discu...</td>\n",
       "    </tr>\n",
       "    <tr>\n",
       "      <th>7846</th>\n",
       "      <td>7846</td>\n",
       "      <td>26582</td>\n",
       "      <td>Maxine Waters: Trump Is Trying to Start War - ...</td>\n",
       "      <td>Breitbart</td>\n",
       "      <td>Pam Key</td>\n",
       "      <td>2017-04-14</td>\n",
       "      <td>2017.0</td>\n",
       "      <td>4.0</td>\n",
       "      <td>Thursday on KNBC 4’s “News at 11 pm,” Rep. Max...</td>\n",
       "    </tr>\n",
       "    <tr>\n",
       "      <th>7854</th>\n",
       "      <td>7854</td>\n",
       "      <td>26590</td>\n",
       "      <td>McCain: Trump Should Release His Tax Returns -...</td>\n",
       "      <td>Breitbart</td>\n",
       "      <td>Pam Key</td>\n",
       "      <td>2017-04-30</td>\n",
       "      <td>2017.0</td>\n",
       "      <td>4.0</td>\n",
       "      <td>Sunday on CNN’s “State of the Union,” Sen. Joh...</td>\n",
       "    </tr>\n",
       "    <tr>\n",
       "      <th>7969</th>\n",
       "      <td>7969</td>\n",
       "      <td>26705</td>\n",
       "      <td>Matthews Thinks Trump Will Probably Face a Pri...</td>\n",
       "      <td>Breitbart</td>\n",
       "      <td>Pam Key</td>\n",
       "      <td>2017-05-04</td>\n",
       "      <td>2017.0</td>\n",
       "      <td>5.0</td>\n",
       "      <td>On Thursday, MSNBC host Katy Tur seemed to con...</td>\n",
       "    </tr>\n",
       "    <tr>\n",
       "      <th>7977</th>\n",
       "      <td>7977</td>\n",
       "      <td>26713</td>\n",
       "      <td>Schumer: ’Lots’ of Democrats Could Beat Trump ...</td>\n",
       "      <td>Breitbart</td>\n",
       "      <td>Pam Key</td>\n",
       "      <td>2017-04-28</td>\n",
       "      <td>2017.0</td>\n",
       "      <td>4.0</td>\n",
       "      <td>Friday on MSNBC, Senate Minority Leader Chuck ...</td>\n",
       "    </tr>\n",
       "  </tbody>\n",
       "</table>\n",
       "</div>"
      ],
      "text/plain": [
       "      Unnamed: 0     id                                              title  \\\n",
       "7845        7845  26581  Rand Paul on Obamacare Lite: There Is a ’Separ...   \n",
       "7846        7846  26582  Maxine Waters: Trump Is Trying to Start War - ...   \n",
       "7854        7854  26590  McCain: Trump Should Release His Tax Returns -...   \n",
       "7969        7969  26705  Matthews Thinks Trump Will Probably Face a Pri...   \n",
       "7977        7977  26713  Schumer: ’Lots’ of Democrats Could Beat Trump ...   \n",
       "\n",
       "     publication   author        date    year  month  \\\n",
       "7845   Breitbart  Pam Key  2017-03-12  2017.0    3.0   \n",
       "7846   Breitbart  Pam Key  2017-04-14  2017.0    4.0   \n",
       "7854   Breitbart  Pam Key  2017-04-30  2017.0    4.0   \n",
       "7969   Breitbart  Pam Key  2017-05-04  2017.0    5.0   \n",
       "7977   Breitbart  Pam Key  2017-04-28  2017.0    4.0   \n",
       "\n",
       "                                                content  \n",
       "7845  Sunday on CBS’s “Face The Nation,” while discu...  \n",
       "7846  Thursday on KNBC 4’s “News at 11 pm,” Rep. Max...  \n",
       "7854  Sunday on CNN’s “State of the Union,” Sen. Joh...  \n",
       "7969  On Thursday, MSNBC host Katy Tur seemed to con...  \n",
       "7977  Friday on MSNBC, Senate Minority Leader Chuck ...  "
      ]
     },
     "execution_count": 27,
     "metadata": {},
     "output_type": "execute_result"
    }
   ],
   "source": [
    "top_ten.head()"
   ]
  },
  {
   "cell_type": "code",
   "execution_count": 28,
   "metadata": {},
   "outputs": [
    {
     "name": "stdout",
     "output_type": "stream",
     "text": [
      "Number of features: 19038\n"
     ]
    }
   ],
   "source": [
    "X = top_ten['content']\n",
    "\n",
    "from sklearn.feature_extraction.text import TfidfVectorizer\n",
    "\n",
    "vectorizer = TfidfVectorizer(max_df=0.35, # drop words that occur in more than half the paragraphs\n",
    "                             min_df=3, # only use words that appear at least twice\n",
    "                             stop_words='english', \n",
    "                             lowercase=True, #convert everything to lower case (since Alice in Wonderland has the HABIT of CAPITALIZING WORDS for EMPHASIS)\n",
    "                             use_idf=True,#we definitely want to use inverse document frequencies in our weighting\n",
    "                             norm=u'l2', #Applies a correction factor so that longer paragraphs and shorter paragraphs get treated equally\n",
    "                             smooth_idf=True #Adds 1 to all document frequencies, as if an extra document existed that used every word once.  Prevents divide-by-zero errors\n",
    "                            )\n",
    "\n",
    "#Applying the vectorizer\n",
    "all_content_tfidf=vectorizer.fit_transform(X)\n",
    "print(\"Number of features: %d\" % all_content_tfidf.get_shape()[1])"
   ]
  },
  {
   "cell_type": "code",
   "execution_count": 29,
   "metadata": {
    "collapsed": true
   },
   "outputs": [],
   "source": [
    "from sklearn.cluster import KMeans\n",
    "from sklearn.metrics import adjusted_rand_score\n",
    "from sklearn.preprocessing import StandardScaler\n",
    "from sklearn.preprocessing import normalize\n",
    "# Normalize the data.\n",
    "X_norm = normalize(all_content_tfidf)\n",
    "\n",
    "# Calculate predicted values.\n",
    "y_pred = KMeans(n_clusters=10, random_state=42).fit_predict(X_norm)"
   ]
  },
  {
   "cell_type": "code",
   "execution_count": 30,
   "metadata": {},
   "outputs": [
    {
     "data": {
      "text/plain": [
       "(5450,)"
      ]
     },
     "execution_count": 30,
     "metadata": {},
     "output_type": "execute_result"
    }
   ],
   "source": [
    "y_pred.shape"
   ]
  },
  {
   "cell_type": "code",
   "execution_count": 31,
   "metadata": {
    "collapsed": true
   },
   "outputs": [],
   "source": [
    "top_ten['km_group'] = y_pred + 1"
   ]
  },
  {
   "cell_type": "code",
   "execution_count": 32,
   "metadata": {},
   "outputs": [
    {
     "data": {
      "text/plain": [
       "<pandas.core.groupby.DataFrameGroupBy object at 0x000002298AA7CD68>"
      ]
     },
     "execution_count": 32,
     "metadata": {},
     "output_type": "execute_result"
    }
   ],
   "source": [
    "top_ten.groupby(['km_group'])"
   ]
  },
  {
   "cell_type": "code",
   "execution_count": 33,
   "metadata": {},
   "outputs": [
    {
     "data": {
      "text/plain": [
       "<matplotlib.axes._subplots.AxesSubplot at 0x2298b6d5e48>"
      ]
     },
     "execution_count": 33,
     "metadata": {},
     "output_type": "execute_result"
    },
    {
     "data": {
      "image/png": "[encoded data removed]",
      "text/plain": [
       "<matplotlib.figure.Figure at 0x229891e3668>"
      ]
     },
     "metadata": {},
     "output_type": "display_data"
    }
   ],
   "source": [
    "sns.countplot(x='km_group',data=top_ten)"
   ]
  },
  {
   "cell_type": "code",
   "execution_count": 34,
   "metadata": {},
   "outputs": [
    {
     "data": {
      "text/plain": [
       "<matplotlib.axes._subplots.AxesSubplot at 0x2298be22ef0>"
      ]
     },
     "execution_count": 34,
     "metadata": {},
     "output_type": "execute_result"
    },
    {
     "data": {
      "image/png": "[encoded data removed]",
      "text/plain": [
       "<matplotlib.figure.Figure at 0x2298be627b8>"
      ]
     },
     "metadata": {},
     "output_type": "display_data"
    }
   ],
   "source": [
    "sns.countplot(x='km_group',data=top_ten, hue='author')"
   ]
  },
  {
   "cell_type": "code",
   "execution_count": 35,
   "metadata": {
    "collapsed": true
   },
   "outputs": [],
   "source": [
    "group1 = top_ten[top_ten['km_group'] == 1]"
   ]
  },
  {
   "cell_type": "code",
   "execution_count": 36,
   "metadata": {
    "collapsed": true
   },
   "outputs": [],
   "source": [
    "group2 = top_ten[top_ten['km_group'] == 2]"
   ]
  },
  {
   "cell_type": "code",
   "execution_count": 37,
   "metadata": {
    "collapsed": true
   },
   "outputs": [],
   "source": [
    "group3 = top_ten[top_ten['km_group'] == 3]"
   ]
  },
  {
   "cell_type": "code",
   "execution_count": 38,
   "metadata": {
    "collapsed": true
   },
   "outputs": [],
   "source": [
    "group4 = top_ten[top_ten['km_group'] == 4]"
   ]
  },
  {
   "cell_type": "code",
   "execution_count": 39,
   "metadata": {
    "collapsed": true
   },
   "outputs": [],
   "source": [
    "group5 = top_ten[top_ten['km_group'] == 5]"
   ]
  },
  {
   "cell_type": "code",
   "execution_count": 40,
   "metadata": {
    "collapsed": true
   },
   "outputs": [],
   "source": [
    "group6 = top_ten[top_ten['km_group'] == 6]"
   ]
  },
  {
   "cell_type": "code",
   "execution_count": 41,
   "metadata": {
    "collapsed": true
   },
   "outputs": [],
   "source": [
    "group7 = top_ten[top_ten['km_group'] == 7]"
   ]
  },
  {
   "cell_type": "code",
   "execution_count": 42,
   "metadata": {
    "collapsed": true
   },
   "outputs": [],
   "source": [
    "group8 = top_ten[top_ten['km_group'] == 8]"
   ]
  },
  {
   "cell_type": "code",
   "execution_count": 43,
   "metadata": {
    "collapsed": true
   },
   "outputs": [],
   "source": [
    "group9 = top_ten[top_ten['km_group'] == 9]"
   ]
  },
  {
   "cell_type": "code",
   "execution_count": 44,
   "metadata": {
    "collapsed": true
   },
   "outputs": [],
   "source": [
    "group10 = top_ten[top_ten['km_group'] == 10]"
   ]
  },
  {
   "cell_type": "markdown",
   "metadata": {},
   "source": [
    "## Break Down By Author"
   ]
  },
  {
   "cell_type": "code",
   "execution_count": 42,
   "metadata": {},
   "outputs": [
    {
     "data": {
      "text/plain": [
       "<matplotlib.axes._subplots.AxesSubplot at 0x167aeaeea20>"
      ]
     },
     "execution_count": 42,
     "metadata": {},
     "output_type": "execute_result"
    },
    {
     "data": {
      "image/png": "[encoded data removed]",
      "text/plain": [
       "<matplotlib.figure.Figure at 0x167af03c400>"
      ]
     },
     "metadata": {},
     "output_type": "display_data"
    }
   ],
   "source": [
    "sns.countplot(x='km_group',data=group1, hue='author')"
   ]
  },
  {
   "cell_type": "code",
   "execution_count": 41,
   "metadata": {},
   "outputs": [
    {
     "data": {
      "text/plain": [
       "Pam Key               416\n",
       "Charlie Spiering       12\n",
       "Alex Swoyer             3\n",
       "Joel B. Pollak          2\n",
       "Daniel Nussbaum         1\n",
       "Jerome Hudson           1\n",
       "Warner Todd Huston      1\n",
       "Name: author, dtype: int64"
      ]
     },
     "execution_count": 41,
     "metadata": {},
     "output_type": "execute_result"
    }
   ],
   "source": [
    "group1['author'].value_counts()"
   ]
  },
  {
   "cell_type": "code",
   "execution_count": 43,
   "metadata": {},
   "outputs": [
    {
     "data": {
      "text/plain": [
       "<matplotlib.axes._subplots.AxesSubplot at 0x167af48a780>"
      ]
     },
     "execution_count": 43,
     "metadata": {},
     "output_type": "execute_result"
    },
    {
     "data": {
      "image/png": "[encoded data removed]",
      "text/plain": [
       "<matplotlib.figure.Figure at 0x167af44d6d8>"
      ]
     },
     "metadata": {},
     "output_type": "display_data"
    }
   ],
   "source": [
    "sns.countplot(x='km_group',data=group7, hue='author')"
   ]
  },
  {
   "cell_type": "code",
   "execution_count": 44,
   "metadata": {},
   "outputs": [
    {
     "data": {
      "text/plain": [
       "<matplotlib.axes._subplots.AxesSubplot at 0x167af4df940>"
      ]
     },
     "execution_count": 44,
     "metadata": {},
     "output_type": "execute_result"
    },
    {
     "data": {
      "image/png": "[encoded data removed]",
      "text/plain": [
       "<matplotlib.figure.Figure at 0x167af44d518>"
      ]
     },
     "metadata": {},
     "output_type": "display_data"
    }
   ],
   "source": [
    "sns.countplot(x='km_group',data=group8, hue='author')"
   ]
  },
  {
   "cell_type": "code",
   "execution_count": 46,
   "metadata": {},
   "outputs": [
    {
     "data": {
      "text/plain": [
       "<matplotlib.axes._subplots.AxesSubplot at 0x167b573c240>"
      ]
     },
     "execution_count": 46,
     "metadata": {},
     "output_type": "execute_result"
    },
    {
     "data": {
      "image/png": "[encoded data removed]",
      "text/plain": [
       "<matplotlib.figure.Figure at 0x167b56ba4a8>"
      ]
     },
     "metadata": {},
     "output_type": "display_data"
    }
   ],
   "source": [
    "sns.countplot(x='km_group',data=group6, hue='author')"
   ]
  },
  {
   "cell_type": "code",
   "execution_count": 45,
   "metadata": {},
   "outputs": [
    {
     "data": {
      "text/plain": [
       "<matplotlib.axes._subplots.AxesSubplot at 0x167b5656e48>"
      ]
     },
     "execution_count": 45,
     "metadata": {},
     "output_type": "execute_result"
    },
    {
     "data": {
      "image/png": "[encoded data removed]",
      "text/plain": [
       "<matplotlib.figure.Figure at 0x167b55e6240>"
      ]
     },
     "metadata": {},
     "output_type": "display_data"
    }
   ],
   "source": [
    "sns.countplot(x='km_group',data=group4, hue='author')"
   ]
  },
  {
   "cell_type": "code",
   "execution_count": 58,
   "metadata": {
    "collapsed": true
   },
   "outputs": [],
   "source": [
    "def avg_len(group):\n",
    "    counter = 0\n",
    "    for article in group:\n",
    "        for word in article:\n",
    "            counter += 1\n",
    "    return(counter/len(article))"
   ]
  },
  {
   "cell_type": "markdown",
   "metadata": {},
   "source": [
    "## Average Word Lenght"
   ]
  },
  {
   "cell_type": "code",
   "execution_count": 59,
   "metadata": {},
   "outputs": [
    {
     "data": {
      "text/plain": [
       "233.01863892501083"
      ]
     },
     "execution_count": 59,
     "metadata": {},
     "output_type": "execute_result"
    }
   ],
   "source": [
    "avg_len(group1['content'])"
   ]
  },
  {
   "cell_type": "code",
   "execution_count": 60,
   "metadata": {},
   "outputs": [
    {
     "data": {
      "text/plain": [
       "169.80213749277874"
      ]
     },
     "execution_count": 60,
     "metadata": {},
     "output_type": "execute_result"
    }
   ],
   "source": [
    "avg_len(group2['content'])"
   ]
  },
  {
   "cell_type": "code",
   "execution_count": 61,
   "metadata": {},
   "outputs": [
    {
     "data": {
      "text/plain": [
       "60.87351598173516"
      ]
     },
     "execution_count": 61,
     "metadata": {},
     "output_type": "execute_result"
    }
   ],
   "source": [
    "avg_len(group3['content'])"
   ]
  },
  {
   "cell_type": "code",
   "execution_count": 62,
   "metadata": {},
   "outputs": [
    {
     "data": {
      "text/plain": [
       "1477.7614447711046"
      ]
     },
     "execution_count": 62,
     "metadata": {},
     "output_type": "execute_result"
    }
   ],
   "source": [
    "avg_len(group4['content'])"
   ]
  },
  {
   "cell_type": "code",
   "execution_count": 63,
   "metadata": {},
   "outputs": [
    {
     "data": {
      "text/plain": [
       "73.59076600209863"
      ]
     },
     "execution_count": 63,
     "metadata": {},
     "output_type": "execute_result"
    }
   ],
   "source": [
    "avg_len(group5['content'])"
   ]
  },
  {
   "cell_type": "code",
   "execution_count": 64,
   "metadata": {},
   "outputs": [
    {
     "data": {
      "text/plain": [
       "2238.6150888995676"
      ]
     },
     "execution_count": 64,
     "metadata": {},
     "output_type": "execute_result"
    }
   ],
   "source": [
    "avg_len(group6['content'])"
   ]
  },
  {
   "cell_type": "code",
   "execution_count": 65,
   "metadata": {},
   "outputs": [
    {
     "data": {
      "text/plain": [
       "963.1205035971223"
      ]
     },
     "execution_count": 65,
     "metadata": {},
     "output_type": "execute_result"
    }
   ],
   "source": [
    "avg_len(group7['content'])"
   ]
  },
  {
   "cell_type": "code",
   "execution_count": 66,
   "metadata": {},
   "outputs": [
    {
     "data": {
      "text/plain": [
       "64.89837837837838"
      ]
     },
     "execution_count": 66,
     "metadata": {},
     "output_type": "execute_result"
    }
   ],
   "source": [
    "avg_len(group8['content'])"
   ]
  },
  {
   "cell_type": "code",
   "execution_count": 67,
   "metadata": {},
   "outputs": [
    {
     "data": {
      "text/plain": [
       "146.08986615678776"
      ]
     },
     "execution_count": 67,
     "metadata": {},
     "output_type": "execute_result"
    }
   ],
   "source": [
    "avg_len(group9['content'])"
   ]
  },
  {
   "cell_type": "code",
   "execution_count": 68,
   "metadata": {},
   "outputs": [
    {
     "data": {
      "text/plain": [
       "359.09178367134683"
      ]
     },
     "execution_count": 68,
     "metadata": {},
     "output_type": "execute_result"
    }
   ],
   "source": [
    "avg_len(group10['content'])"
   ]
  },
  {
   "cell_type": "markdown",
   "metadata": {},
   "source": [
    "## Dimension Reduction"
   ]
  },
  {
   "cell_type": "code",
   "execution_count": 45,
   "metadata": {
    "collapsed": true
   },
   "outputs": [],
   "source": [
    "from sklearn.decomposition import TruncatedSVD\n",
    "from sklearn.pipeline import make_pipeline\n",
    "from sklearn.preprocessing import Normalizer"
   ]
  },
  {
   "cell_type": "code",
   "execution_count": 46,
   "metadata": {},
   "outputs": [
    {
     "name": "stdout",
     "output_type": "stream",
     "text": [
      "Number of features: 19038\n"
     ]
    }
   ],
   "source": [
    "X = top_ten['content']\n",
    "\n",
    "from sklearn.feature_extraction.text import TfidfVectorizer\n",
    "\n",
    "vectorizer = TfidfVectorizer(max_df=0.35, # drop words that occur in more than half the paragraphs\n",
    "                             min_df=3, # only use words that appear at least twice\n",
    "                             stop_words='english', \n",
    "                             lowercase=True, #convert everything to lower case (since Alice in Wonderland has the HABIT of CAPITALIZING WORDS for EMPHASIS)\n",
    "                             use_idf=True,#we definitely want to use inverse document frequencies in our weighting\n",
    "                             norm=u'l2', #Applies a correction factor so that longer paragraphs and shorter paragraphs get treated equally\n",
    "                             smooth_idf=True #Adds 1 to all document frequencies, as if an extra document existed that used every word once.  Prevents divide-by-zero errors\n",
    "                            )\n",
    "\n",
    "#Applying the vectorizer\n",
    "all_content_tfidf=vectorizer.fit_transform(X)\n",
    "print(\"Number of features: %d\" % all_content_tfidf.get_shape()[1])"
   ]
  },
  {
   "cell_type": "code",
   "execution_count": 47,
   "metadata": {
    "scrolled": true
   },
   "outputs": [
    {
     "name": "stdout",
     "output_type": "stream",
     "text": [
      "Original sentence:   (0, 16659)\t0.0786482884882\n",
      "  (0, 5231)\t0.112150604467\n",
      "  (0, 9783)\t0.0579370821469\n",
      "  (0, 12294)\t0.0828278712787\n",
      "  (0, 9692)\t0.0756268659286\n",
      "  (0, 12296)\t0.0831585071721\n",
      "  (0, 8414)\t0.0675928142461\n",
      "  (0, 5820)\t0.0685518935214\n",
      "  (0, 13653)\t0.167083678502\n",
      "  (0, 7170)\t0.15825769582\n",
      "  (0, 3083)\t0.101316065138\n",
      "  (0, 7241)\t0.0944597626952\n",
      "  (0, 17729)\t0.11855337137\n",
      "  (0, 572)\t0.130162682901\n",
      "  (0, 11802)\t0.121762451852\n",
      "  (0, 672)\t0.144010129978\n",
      "  (0, 18793)\t0.303742231772\n",
      "  (0, 17438)\t0.125315866926\n",
      "  (0, 3902)\t0.0932179217411\n",
      "  (0, 13717)\t0.0759094618812\n",
      "  (0, 16921)\t0.0823630320211\n",
      "  (0, 10649)\t0.101316065138\n",
      "  (0, 10126)\t0.460277649422\n",
      "  (0, 2515)\t0.11855337137\n",
      "  (0, 14301)\t0.109545741829\n",
      "  (0, 12851)\t0.184181914093\n",
      "  (0, 6300)\t0.0932179217411\n",
      "  (0, 12220)\t0.146473117519\n",
      "  (0, 17728)\t0.134633809655\n",
      "  (0, 16152)\t0.3463886787\n",
      "  (0, 16072)\t0.187110963379\n",
      "  (0, 18662)\t0.0789274850591\n",
      "  (0, 6914)\t0.169873657147\n",
      "  (0, 4218)\t0.0868418353221\n",
      "  (0, 17733)\t0.126374246917\n",
      "  (0, 5065)\t0.0590840974085\n",
      "  (0, 16151)\t0.155084375994\n",
      "  (0, 6511)\t0.133891420906\n",
      "  (0, 2759)\t0.0591383355461\n",
      "  (0, 17518)\t0.118751525217\n",
      "  (0, 16752)\t0.16084885938\n",
      "  (0, 13861)\t0.0932179217411\n",
      "  (0, 1372)\t0.151871115886\n",
      "  (0, 16756)\t0.128636549128\n",
      "Tf_idf vector: {'sunday': 0.078648288488151391, 'discussing': 0.11215060446749624, 'know': 0.057937082146896628, 'pam': 0.082827871278735768, 'key': 0.075626865928552264, 'pamkeynen': 0.083158507172076249, 'host': 0.067592814246059382, 'election': 0.068551893521401536, 'question': 0.16708367850212794, 'fox': 0.15825769582017488, 'channel': 0.10131606513836457, 'friends': 0.094459762695182317, 'tweets': 0.11855337136969522, 'accusing': 0.13016268290128324, 'obama': 0.12176245185194792, 'administration': 0.14401012997769796, 'wiretapping': 0.30374223177174692, 'tower': 0.12531586692601915, 'conservative': 0.093217921741066329, 'radio': 0.07590946188116969, 'talk': 0.082363032021095045, 'mark': 0.10131606513836457, 'levin': 0.46027764942153487, 'broke': 0.11855337136969522, 'reporting': 0.10954574182933971, 'pleasure': 0.18418191409256623, 'evidence': 0.093217921741066329, 'overwhelming': 0.1464731175188973, 'tweeting': 0.1346338096545428, 'spying': 0.34638867869981532, 'spied': 0.18711096337878669, 'went': 0.078927485059146638, 'fisa': 0.16987365714745603, 'court': 0.086841835322098299, 'twice': 0.12637424691716548, 'did': 0.059084097408536818, 'spy': 0.15508437599378022, 'extent': 0.13389142090630035, 'campaign': 0.059138335546107423, 'transition': 0.11875152521666768, 'surrogates': 0.16084885937982682, 'read': 0.093217921741066329, 'articles': 0.15187111588587346, 'surveillance': 0.12863654912847078}\n"
     ]
    }
   ],
   "source": [
    "#Reshapes the vectorizer output into something people can read\n",
    "all_content_tfidf_csr = all_content_tfidf.tocsr()\n",
    "\n",
    "#number of paragraphs\n",
    "n = all_content_tfidf_csr.shape[0]\n",
    "#A list of dictionaries, one per paragraph\n",
    "tfidf_bypara = [{} for _ in range(0,n)]\n",
    "#List of features\n",
    "terms = vectorizer.get_feature_names()\n",
    "#for each paragraph, lists the feature words and their tf-idf scores\n",
    "for i, j in zip(*all_content_tfidf_csr.nonzero()):\n",
    "    tfidf_bypara[i][terms[j]] = all_content_tfidf_csr[i, j]\n",
    "\n",
    "#Keep in mind that the log base 2 of 1 is 0, so a tf-idf score of 0 indicates that the word was present once in that sentence.\n",
    "print('Original sentence:', all_content_tfidf[5])\n",
    "print('Tf_idf vector:', tfidf_bypara[5])"
   ]
  },
  {
   "cell_type": "code",
   "execution_count": 48,
   "metadata": {},
   "outputs": [
    {
     "name": "stdout",
     "output_type": "stream",
     "text": [
      "Percent variance captured by all components: 21.1374862323\n",
      "Component 0:\n",
      "0.720665432359\n",
      "Component 1:\n",
      "0.745520709387\n",
      "Component 2:\n",
      "0.603074681777\n",
      "Component 3:\n",
      "0.695927578647\n",
      "Component 4:\n",
      "0.507678335711\n",
      "Component 5:\n",
      "0.656218468037\n",
      "Component 6:\n",
      "0.431048510559\n",
      "Component 7:\n",
      "0.633531928328\n",
      "Component 8:\n",
      "0.504836005204\n",
      "Component 9:\n",
      "0.450510419057\n"
     ]
    }
   ],
   "source": [
    "#Our SVD data reducer.  We are going to reduce the feature space from 1379 to 130.\n",
    "svd= TruncatedSVD(130)\n",
    "lsa = make_pipeline(svd, Normalizer(copy=False))\n",
    "# Run SVD on the training data, then project the training data.\n",
    "all_content_lsa = lsa.fit_transform(all_content_tfidf)\n",
    "\n",
    "variance_explained=svd.explained_variance_ratio_\n",
    "total_variance = variance_explained.sum()\n",
    "print(\"Percent variance captured by all components:\",total_variance*100)\n",
    "\n",
    "#Looking at what sorts of paragraphs our solution considers similar, for the first five identified topics\n",
    "paras_by_component=pd.DataFrame(all_content_lsa,index=X)\n",
    "for i in range(10):\n",
    "    print('Component {}:'.format(i))\n",
    "    print(paras_by_component.loc[:,i].sort_values(ascending=False)[0:25][0])"
   ]
  },
  {
   "cell_type": "code",
   "execution_count": 90,
   "metadata": {
    "collapsed": true
   },
   "outputs": [],
   "source": [
    "# add most frequient words for each group,  check top words in components"
   ]
  },
  {
   "cell_type": "code",
   "execution_count": 49,
   "metadata": {
    "collapsed": true
   },
   "outputs": [],
   "source": [
    "group1_nlp = nlp(text_cleaner(str(body_of_work(group1['content']))))"
   ]
  },
  {
   "cell_type": "code",
   "execution_count": 50,
   "metadata": {
    "collapsed": true
   },
   "outputs": [],
   "source": [
    "group2_nlp = nlp(text_cleaner(str(body_of_work(group2['content']))))"
   ]
  },
  {
   "cell_type": "code",
   "execution_count": 51,
   "metadata": {
    "collapsed": true
   },
   "outputs": [],
   "source": [
    "group3_nlp = nlp(text_cleaner(str(body_of_work(group3['content']))))"
   ]
  },
  {
   "cell_type": "code",
   "execution_count": 52,
   "metadata": {
    "collapsed": true
   },
   "outputs": [],
   "source": [
    "group4_nlp = nlp(text_cleaner(str(body_of_work(group4['content']))))"
   ]
  },
  {
   "cell_type": "code",
   "execution_count": 53,
   "metadata": {
    "collapsed": true
   },
   "outputs": [],
   "source": [
    "group5_nlp = nlp(text_cleaner(str(body_of_work(group5['content']))))"
   ]
  },
  {
   "cell_type": "code",
   "execution_count": 54,
   "metadata": {
    "collapsed": true
   },
   "outputs": [],
   "source": [
    "def get_people(people):\n",
    "    return([entity.text for entity in list(people.ents) if entity.label_ == \"PERSON\"])"
   ]
  },
  {
   "cell_type": "code",
   "execution_count": 55,
   "metadata": {},
   "outputs": [
    {
     "data": {
      "text/plain": [
       "[('Donald Trump', 256),\n",
       " ('Trump', 72),\n",
       " ('Obama', 40),\n",
       " ('Hillary Clinton', 34),\n",
       " ('Follow Pam Key on Twitter', 29),\n",
       " ('John McCain', 22),\n",
       " ('Chuck Schumer', 16),\n",
       " ('McCain', 16)]"
      ]
     },
     "execution_count": 55,
     "metadata": {},
     "output_type": "execute_result"
    }
   ],
   "source": [
    "Counter(get_people(group1_nlp)).most_common(8)"
   ]
  },
  {
   "cell_type": "code",
   "execution_count": 56,
   "metadata": {},
   "outputs": [
    {
     "data": {
      "text/plain": [
       "[('Cruz', 213),\n",
       " ('Donald Trump', 98),\n",
       " ('Ted Cruz', 97),\n",
       " ('Trump', 44),\n",
       " ('Marco Rubio', 33),\n",
       " ('Hillary Clinton', 24),\n",
       " ('Donald', 23),\n",
       " ('Ben Carson', 21)]"
      ]
     },
     "execution_count": 56,
     "metadata": {},
     "output_type": "execute_result"
    }
   ],
   "source": [
    "Counter(get_people(group2_nlp)).most_common(8)"
   ]
  },
  {
   "cell_type": "code",
   "execution_count": 57,
   "metadata": {},
   "outputs": [
    {
     "data": {
      "text/plain": [
       "[('Obama', 3), ('Rasmussen', 1), ('Donald Trump', 1)]"
      ]
     },
     "execution_count": 57,
     "metadata": {},
     "output_type": "execute_result"
    }
   ],
   "source": [
    "Counter(get_people(group3_nlp)).most_common(8)"
   ]
  },
  {
   "cell_type": "code",
   "execution_count": 58,
   "metadata": {},
   "outputs": [
    {
     "data": {
      "text/plain": [
       "[('Obama', 177),\n",
       " ('Donald Trump', 89),\n",
       " ('Trump', 60),\n",
       " ('Twitter', 41),\n",
       " ('Joel B. Pollak', 36),\n",
       " ('Barack Obama', 29),\n",
       " ('Gorka', 27),\n",
       " ('Hillary Clinton', 25)]"
      ]
     },
     "execution_count": 58,
     "metadata": {},
     "output_type": "execute_result"
    }
   ],
   "source": [
    "Counter(get_people(group4_nlp)).most_common(8)"
   ]
  },
  {
   "cell_type": "code",
   "execution_count": 59,
   "metadata": {},
   "outputs": [
    {
     "data": {
      "text/plain": [
       "[('Comey', 56),\n",
       " ('Clinton', 31),\n",
       " ('James Comey', 29),\n",
       " ('Hillary Clinton', 18),\n",
       " ('Donald Trump', 14),\n",
       " ('Obama', 10),\n",
       " ('Trump', 9),\n",
       " ('Hillary', 8)]"
      ]
     },
     "execution_count": 59,
     "metadata": {},
     "output_type": "execute_result"
    }
   ],
   "source": [
    "Counter(get_people(group5_nlp)).most_common(8)"
   ]
  },
  {
   "cell_type": "code",
   "execution_count": 60,
   "metadata": {},
   "outputs": [
    {
     "data": {
      "text/plain": [
       "[('I', 1089),\n",
       " ('’s', 1062),\n",
       " ('said', 524),\n",
       " ('Trump', 506),\n",
       " ('n’t', 404),\n",
       " ('think', 292),\n",
       " ('Donald', 276),\n",
       " ('Twitter', 258),\n",
       " ('Follow', 255),\n",
       " ('Pam', 254)]"
      ]
     },
     "execution_count": 60,
     "metadata": {},
     "output_type": "execute_result"
    }
   ],
   "source": [
    "Counter(word_frequencies(group1_nlp, include_stop=False)).most_common(10)"
   ]
  },
  {
   "cell_type": "code",
   "execution_count": 61,
   "metadata": {
    "collapsed": true
   },
   "outputs": [],
   "source": [
    "def split_counter(counter_input):\n",
    "    labels = []\n",
    "    values = []\n",
    "    for i,j in counter_input:\n",
    "        labels.append(i)\n",
    "        values.append(j)\n",
    "    return(values,labels)\n",
    "        "
   ]
  },
  {
   "cell_type": "code",
   "execution_count": null,
   "metadata": {
    "collapsed": true
   },
   "outputs": [],
   "source": []
  }
 ],
 "metadata": {
  "kernelspec": {
   "display_name": "Python 3",
   "language": "python",
   "name": "python3"
  },
  "language_info": {
   "codemirror_mode": {
    "name": "ipython",
    "version": 3
   },
   "file_extension": ".py",
   "mimetype": "text/x-python",
   "name": "python",
   "nbconvert_exporter": "python",
   "pygments_lexer": "ipython3",
   "version": "3.6.1"
  }
 },
 "nbformat": 4,
 "nbformat_minor": 2
}
